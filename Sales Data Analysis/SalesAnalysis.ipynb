{
 "cells": [
  {
   "cell_type": "markdown",
   "id": "0e32de17",
   "metadata": {},
   "source": [
    "# Sales Data Analysis"
   ]
  },
  {
   "cell_type": "markdown",
   "id": "bedaa432",
   "metadata": {},
   "source": [
    "### Import Necessary Libraries"
   ]
  },
  {
   "cell_type": "code",
   "execution_count": 85,
   "id": "9b5c33e9",
   "metadata": {},
   "outputs": [],
   "source": [
    "import pandas as pd\n",
    "import os\n",
    "import matplotlib.pyplot as plt"
   ]
  },
  {
   "cell_type": "markdown",
   "id": "2df416a7",
   "metadata": {},
   "source": [
    "#### Task 1: Merging 12 months of sales data into a single file"
   ]
  },
  {
   "cell_type": "code",
   "execution_count": 12,
   "id": "9ab3ec7d",
   "metadata": {},
   "outputs": [],
   "source": [
    "files = [file for file in os.listdir('./Sales_Data')]\n",
    "\n",
    "all_months_data = pd.DataFrame()\n",
    "for file in files:\n",
    "    sales_df = pd.read_csv(f\"./Sales_Data/{file}\")\n",
    "    all_months_data = pd.concat([all_months_data, sales_df])\n",
    "\n",
    "all_months_data.to_csv(\"all_data.csv\", index=False)"
   ]
  },
  {
   "cell_type": "markdown",
   "id": "0e103577",
   "metadata": {},
   "source": [
    "### Read in updated dataframe"
   ]
  },
  {
   "cell_type": "code",
   "execution_count": 14,
   "id": "efc7e336",
   "metadata": {},
   "outputs": [
    {
     "data": {
      "text/html": [
       "<div>\n",
       "<style scoped>\n",
       "    .dataframe tbody tr th:only-of-type {\n",
       "        vertical-align: middle;\n",
       "    }\n",
       "\n",
       "    .dataframe tbody tr th {\n",
       "        vertical-align: top;\n",
       "    }\n",
       "\n",
       "    .dataframe thead th {\n",
       "        text-align: right;\n",
       "    }\n",
       "</style>\n",
       "<table border=\"1\" class=\"dataframe\">\n",
       "  <thead>\n",
       "    <tr style=\"text-align: right;\">\n",
       "      <th></th>\n",
       "      <th>Order ID</th>\n",
       "      <th>Product</th>\n",
       "      <th>Quantity Ordered</th>\n",
       "      <th>Price Each</th>\n",
       "      <th>Order Date</th>\n",
       "      <th>Purchase Address</th>\n",
       "    </tr>\n",
       "  </thead>\n",
       "  <tbody>\n",
       "    <tr>\n",
       "      <th>0</th>\n",
       "      <td>176558</td>\n",
       "      <td>USB-C Charging Cable</td>\n",
       "      <td>2</td>\n",
       "      <td>11.95</td>\n",
       "      <td>04/19/19 08:46</td>\n",
       "      <td>917 1st St, Dallas, TX 75001</td>\n",
       "    </tr>\n",
       "    <tr>\n",
       "      <th>1</th>\n",
       "      <td>NaN</td>\n",
       "      <td>NaN</td>\n",
       "      <td>NaN</td>\n",
       "      <td>NaN</td>\n",
       "      <td>NaN</td>\n",
       "      <td>NaN</td>\n",
       "    </tr>\n",
       "    <tr>\n",
       "      <th>2</th>\n",
       "      <td>176559</td>\n",
       "      <td>Bose SoundSport Headphones</td>\n",
       "      <td>1</td>\n",
       "      <td>99.99</td>\n",
       "      <td>04/07/19 22:30</td>\n",
       "      <td>682 Chestnut St, Boston, MA 02215</td>\n",
       "    </tr>\n",
       "    <tr>\n",
       "      <th>3</th>\n",
       "      <td>176560</td>\n",
       "      <td>Google Phone</td>\n",
       "      <td>1</td>\n",
       "      <td>600</td>\n",
       "      <td>04/12/19 14:38</td>\n",
       "      <td>669 Spruce St, Los Angeles, CA 90001</td>\n",
       "    </tr>\n",
       "    <tr>\n",
       "      <th>4</th>\n",
       "      <td>176560</td>\n",
       "      <td>Wired Headphones</td>\n",
       "      <td>1</td>\n",
       "      <td>11.99</td>\n",
       "      <td>04/12/19 14:38</td>\n",
       "      <td>669 Spruce St, Los Angeles, CA 90001</td>\n",
       "    </tr>\n",
       "  </tbody>\n",
       "</table>\n",
       "</div>"
      ],
      "text/plain": [
       "  Order ID                     Product Quantity Ordered Price Each  \\\n",
       "0   176558        USB-C Charging Cable                2      11.95   \n",
       "1      NaN                         NaN              NaN        NaN   \n",
       "2   176559  Bose SoundSport Headphones                1      99.99   \n",
       "3   176560                Google Phone                1        600   \n",
       "4   176560            Wired Headphones                1      11.99   \n",
       "\n",
       "       Order Date                      Purchase Address  \n",
       "0  04/19/19 08:46          917 1st St, Dallas, TX 75001  \n",
       "1             NaN                                   NaN  \n",
       "2  04/07/19 22:30     682 Chestnut St, Boston, MA 02215  \n",
       "3  04/12/19 14:38  669 Spruce St, Los Angeles, CA 90001  \n",
       "4  04/12/19 14:38  669 Spruce St, Los Angeles, CA 90001  "
      ]
     },
     "execution_count": 14,
     "metadata": {},
     "output_type": "execute_result"
    }
   ],
   "source": [
    "all_data = pd.read_csv(\"all_data.csv\")\n",
    "all_data.head()\n"
   ]
  },
  {
   "cell_type": "markdown",
   "id": "9ab7b469",
   "metadata": {},
   "source": [
    "### Clean up the data"
   ]
  },
  {
   "cell_type": "markdown",
   "id": "8d439f3e",
   "metadata": {},
   "source": [
    "#### Drop rows of NAN"
   ]
  },
  {
   "cell_type": "code",
   "execution_count": 52,
   "id": "78f52f48",
   "metadata": {},
   "outputs": [],
   "source": [
    "nan_df = all_data[all_data.isna().any(axis=1)]\n",
    "all_data = all_data.dropna(how='all')"
   ]
  },
  {
   "cell_type": "markdown",
   "id": "164d71ef",
   "metadata": {},
   "source": [
    "#### Find 'Or' and delete it"
   ]
  },
  {
   "cell_type": "code",
   "execution_count": 50,
   "id": "df3275f0",
   "metadata": {},
   "outputs": [],
   "source": [
    "all_data = all_data[all_data['Order Date'].str[0:2] != 'Or']"
   ]
  },
  {
   "cell_type": "markdown",
   "id": "a7883a43",
   "metadata": {},
   "source": [
    "#### Convert columns to correct type"
   ]
  },
  {
   "cell_type": "code",
   "execution_count": 51,
   "id": "746dd594",
   "metadata": {},
   "outputs": [],
   "source": [
    "all_data['Price Each'] = pd.to_numeric(all_data['Price Each'])\n",
    "all_data['Quantity Ordered'] = pd.to_numeric(all_data['Quantity Ordered'])"
   ]
  },
  {
   "cell_type": "markdown",
   "id": "e4bd9e65",
   "metadata": {},
   "source": [
    "### Augment data with additional columns"
   ]
  },
  {
   "cell_type": "markdown",
   "id": "64eaf6bc",
   "metadata": {},
   "source": [
    "#### Task 2: Add Month Column\n"
   ]
  },
  {
   "cell_type": "code",
   "execution_count": 38,
   "id": "42e28b8c",
   "metadata": {},
   "outputs": [
    {
     "data": {
      "text/html": [
       "<div>\n",
       "<style scoped>\n",
       "    .dataframe tbody tr th:only-of-type {\n",
       "        vertical-align: middle;\n",
       "    }\n",
       "\n",
       "    .dataframe tbody tr th {\n",
       "        vertical-align: top;\n",
       "    }\n",
       "\n",
       "    .dataframe thead th {\n",
       "        text-align: right;\n",
       "    }\n",
       "</style>\n",
       "<table border=\"1\" class=\"dataframe\">\n",
       "  <thead>\n",
       "    <tr style=\"text-align: right;\">\n",
       "      <th></th>\n",
       "      <th>Order ID</th>\n",
       "      <th>Product</th>\n",
       "      <th>Quantity Ordered</th>\n",
       "      <th>Price Each</th>\n",
       "      <th>Order Date</th>\n",
       "      <th>Purchase Address</th>\n",
       "      <th>Month</th>\n",
       "    </tr>\n",
       "  </thead>\n",
       "  <tbody>\n",
       "    <tr>\n",
       "      <th>0</th>\n",
       "      <td>176558</td>\n",
       "      <td>USB-C Charging Cable</td>\n",
       "      <td>2</td>\n",
       "      <td>11.95</td>\n",
       "      <td>04/19/19 08:46</td>\n",
       "      <td>917 1st St, Dallas, TX 75001</td>\n",
       "      <td>4</td>\n",
       "    </tr>\n",
       "    <tr>\n",
       "      <th>2</th>\n",
       "      <td>176559</td>\n",
       "      <td>Bose SoundSport Headphones</td>\n",
       "      <td>1</td>\n",
       "      <td>99.99</td>\n",
       "      <td>04/07/19 22:30</td>\n",
       "      <td>682 Chestnut St, Boston, MA 02215</td>\n",
       "      <td>4</td>\n",
       "    </tr>\n",
       "    <tr>\n",
       "      <th>3</th>\n",
       "      <td>176560</td>\n",
       "      <td>Google Phone</td>\n",
       "      <td>1</td>\n",
       "      <td>600</td>\n",
       "      <td>04/12/19 14:38</td>\n",
       "      <td>669 Spruce St, Los Angeles, CA 90001</td>\n",
       "      <td>4</td>\n",
       "    </tr>\n",
       "    <tr>\n",
       "      <th>4</th>\n",
       "      <td>176560</td>\n",
       "      <td>Wired Headphones</td>\n",
       "      <td>1</td>\n",
       "      <td>11.99</td>\n",
       "      <td>04/12/19 14:38</td>\n",
       "      <td>669 Spruce St, Los Angeles, CA 90001</td>\n",
       "      <td>4</td>\n",
       "    </tr>\n",
       "    <tr>\n",
       "      <th>5</th>\n",
       "      <td>176561</td>\n",
       "      <td>Wired Headphones</td>\n",
       "      <td>1</td>\n",
       "      <td>11.99</td>\n",
       "      <td>04/30/19 09:27</td>\n",
       "      <td>333 8th St, Los Angeles, CA 90001</td>\n",
       "      <td>4</td>\n",
       "    </tr>\n",
       "  </tbody>\n",
       "</table>\n",
       "</div>"
      ],
      "text/plain": [
       "  Order ID                     Product Quantity Ordered Price Each  \\\n",
       "0   176558        USB-C Charging Cable                2      11.95   \n",
       "2   176559  Bose SoundSport Headphones                1      99.99   \n",
       "3   176560                Google Phone                1        600   \n",
       "4   176560            Wired Headphones                1      11.99   \n",
       "5   176561            Wired Headphones                1      11.99   \n",
       "\n",
       "       Order Date                      Purchase Address  Month  \n",
       "0  04/19/19 08:46          917 1st St, Dallas, TX 75001      4  \n",
       "2  04/07/19 22:30     682 Chestnut St, Boston, MA 02215      4  \n",
       "3  04/12/19 14:38  669 Spruce St, Los Angeles, CA 90001      4  \n",
       "4  04/12/19 14:38  669 Spruce St, Los Angeles, CA 90001      4  \n",
       "5  04/30/19 09:27     333 8th St, Los Angeles, CA 90001      4  "
      ]
     },
     "execution_count": 38,
     "metadata": {},
     "output_type": "execute_result"
    }
   ],
   "source": [
    "all_data['Month'] = all_data['Order Date'].str[0:2]\n",
    "all_data['Month'] = all_data['Month'].astype('int32')\n",
    "all_data.head()"
   ]
  },
  {
   "cell_type": "markdown",
   "id": "6fecaeb0",
   "metadata": {},
   "source": [
    "#### Task 3: Add Sales Column"
   ]
  },
  {
   "cell_type": "code",
   "execution_count": 58,
   "id": "b9dbafbc",
   "metadata": {},
   "outputs": [],
   "source": [
    "all_data['Sales'] = all_data['Price Each'] * all_data['Quantity Ordered']"
   ]
  },
  {
   "cell_type": "markdown",
   "id": "09de0cf4",
   "metadata": {},
   "source": [
    "#### Task 4: Add City Column"
   ]
  },
  {
   "cell_type": "code",
   "execution_count": 79,
   "id": "a3db5db7",
   "metadata": {},
   "outputs": [],
   "source": [
    "purchase_address = all_data['Purchase Address'].str.split(',')\n",
    "city = address_list.str[1]\n",
    "all_data['City'] = city"
   ]
  },
  {
   "cell_type": "markdown",
   "id": "6b475bec",
   "metadata": {},
   "source": [
    "#### Task 5: Add Hour Column"
   ]
  },
  {
   "cell_type": "code",
   "execution_count": 111,
   "id": "72d7bfb6",
   "metadata": {},
   "outputs": [],
   "source": [
    "all_data['Order Date'] = pd.to_datetime(all_data['Order Date'], format='%m/%d/%y %H:%M')\n",
    "hour_column = all_data['Order Date'].dt.strftime('%H')\n",
    "all_data['Purchase Hour'] = hour_column"
   ]
  },
  {
   "cell_type": "markdown",
   "id": "798ab121",
   "metadata": {},
   "source": [
    "#### Question 1: What was the best month for sales? How much was earned that month?"
   ]
  },
  {
   "cell_type": "code",
   "execution_count": 61,
   "id": "e7361430",
   "metadata": {},
   "outputs": [
    {
     "name": "stdout",
     "output_type": "stream",
     "text": [
      "Best month for sales: 12.0\n",
      "Total sales in that month: 4613443.34\n"
     ]
    }
   ],
   "source": [
    "monthly_sales = all_data.groupby('Month', as_index = False)['Sales'].sum()\n",
    "best_month = monthly_sales.loc[monthly_sales['Sales'].idxmax()]\n",
    "\n",
    "print(\"Best month for sales:\", best_month['Month'])\n",
    "print(\"Total sales in that month:\", best_month['Sales'])"
   ]
  },
  {
   "cell_type": "code",
   "execution_count": 62,
   "id": "e3bda4a9",
   "metadata": {},
   "outputs": [
    {
     "data": {
      "text/html": [
       "<div>\n",
       "<style scoped>\n",
       "    .dataframe tbody tr th:only-of-type {\n",
       "        vertical-align: middle;\n",
       "    }\n",
       "\n",
       "    .dataframe tbody tr th {\n",
       "        vertical-align: top;\n",
       "    }\n",
       "\n",
       "    .dataframe thead th {\n",
       "        text-align: right;\n",
       "    }\n",
       "</style>\n",
       "<table border=\"1\" class=\"dataframe\">\n",
       "  <thead>\n",
       "    <tr style=\"text-align: right;\">\n",
       "      <th></th>\n",
       "      <th>Month</th>\n",
       "      <th>Sales</th>\n",
       "    </tr>\n",
       "  </thead>\n",
       "  <tbody>\n",
       "    <tr>\n",
       "      <th>0</th>\n",
       "      <td>1</td>\n",
       "      <td>1822256.73</td>\n",
       "    </tr>\n",
       "    <tr>\n",
       "      <th>1</th>\n",
       "      <td>2</td>\n",
       "      <td>2202022.42</td>\n",
       "    </tr>\n",
       "    <tr>\n",
       "      <th>2</th>\n",
       "      <td>3</td>\n",
       "      <td>2807100.38</td>\n",
       "    </tr>\n",
       "    <tr>\n",
       "      <th>3</th>\n",
       "      <td>4</td>\n",
       "      <td>3390670.24</td>\n",
       "    </tr>\n",
       "    <tr>\n",
       "      <th>4</th>\n",
       "      <td>5</td>\n",
       "      <td>3152606.75</td>\n",
       "    </tr>\n",
       "    <tr>\n",
       "      <th>5</th>\n",
       "      <td>6</td>\n",
       "      <td>2577802.26</td>\n",
       "    </tr>\n",
       "    <tr>\n",
       "      <th>6</th>\n",
       "      <td>7</td>\n",
       "      <td>2647775.76</td>\n",
       "    </tr>\n",
       "    <tr>\n",
       "      <th>7</th>\n",
       "      <td>8</td>\n",
       "      <td>2244467.88</td>\n",
       "    </tr>\n",
       "    <tr>\n",
       "      <th>8</th>\n",
       "      <td>9</td>\n",
       "      <td>2097560.13</td>\n",
       "    </tr>\n",
       "    <tr>\n",
       "      <th>9</th>\n",
       "      <td>10</td>\n",
       "      <td>3736726.88</td>\n",
       "    </tr>\n",
       "    <tr>\n",
       "      <th>10</th>\n",
       "      <td>11</td>\n",
       "      <td>3199603.20</td>\n",
       "    </tr>\n",
       "    <tr>\n",
       "      <th>11</th>\n",
       "      <td>12</td>\n",
       "      <td>4613443.34</td>\n",
       "    </tr>\n",
       "  </tbody>\n",
       "</table>\n",
       "</div>"
      ],
      "text/plain": [
       "    Month       Sales\n",
       "0       1  1822256.73\n",
       "1       2  2202022.42\n",
       "2       3  2807100.38\n",
       "3       4  3390670.24\n",
       "4       5  3152606.75\n",
       "5       6  2577802.26\n",
       "6       7  2647775.76\n",
       "7       8  2244467.88\n",
       "8       9  2097560.13\n",
       "9      10  3736726.88\n",
       "10     11  3199603.20\n",
       "11     12  4613443.34"
      ]
     },
     "execution_count": 62,
     "metadata": {},
     "output_type": "execute_result"
    }
   ],
   "source": [
    "monthly_sales"
   ]
  },
  {
   "cell_type": "code",
   "execution_count": 86,
   "id": "1f31d597",
   "metadata": {},
   "outputs": [
    {
     "data": {
      "image/png": "[encoded data removed]",
      "text/plain": [
       "<Figure size 640x480 with 1 Axes>"
      ]
     },
     "metadata": {},
     "output_type": "display_data"
    }
   ],
   "source": [
    "months = range(1,13)\n",
    "plt.bar(months, monthly_sales['Sales'])\n",
    "plt.xticks(months)\n",
    "plt.ylabel('Sales in US Dollars')\n",
    "plt.xlabel('Month')\n",
    "\n",
    "plt.show()"
   ]
  },
  {
   "cell_type": "markdown",
   "id": "4a707436",
   "metadata": {},
   "source": [
    "#### Question 2: Which US city has the highest number of sales"
   ]
  },
  {
   "cell_type": "code",
   "execution_count": 93,
   "id": "529bb1db",
   "metadata": {},
   "outputs": [
    {
     "name": "stdout",
     "output_type": "stream",
     "text": [
      "City with highest number of sales:  San Francisco\n",
      "Total Number of Sales: 8262203.91\n"
     ]
    }
   ],
   "source": [
    "city_sales = all_data.groupby('City', as_index=False)['Sales'].sum()\n",
    "best_city = city_sales.loc[city_sales['Sales'].idxmax()]\n",
    "\n",
    "print(\"City with highest number of sales:\", best_city['City'])\n",
    "print(\"Total Number of Sales:\", best_city['Sales'])"
   ]
  },
  {
   "cell_type": "code",
   "execution_count": 94,
   "id": "003dd2ef",
   "metadata": {},
   "outputs": [
    {
     "data": {
      "text/html": [
       "<div>\n",
       "<style scoped>\n",
       "    .dataframe tbody tr th:only-of-type {\n",
       "        vertical-align: middle;\n",
       "    }\n",
       "\n",
       "    .dataframe tbody tr th {\n",
       "        vertical-align: top;\n",
       "    }\n",
       "\n",
       "    .dataframe thead th {\n",
       "        text-align: right;\n",
       "    }\n",
       "</style>\n",
       "<table border=\"1\" class=\"dataframe\">\n",
       "  <thead>\n",
       "    <tr style=\"text-align: right;\">\n",
       "      <th></th>\n",
       "      <th>City</th>\n",
       "      <th>Sales</th>\n",
       "    </tr>\n",
       "  </thead>\n",
       "  <tbody>\n",
       "    <tr>\n",
       "      <th>0</th>\n",
       "      <td>Atlanta</td>\n",
       "      <td>2795498.58</td>\n",
       "    </tr>\n",
       "    <tr>\n",
       "      <th>1</th>\n",
       "      <td>Austin</td>\n",
       "      <td>1819581.75</td>\n",
       "    </tr>\n",
       "    <tr>\n",
       "      <th>2</th>\n",
       "      <td>Boston</td>\n",
       "      <td>3661642.01</td>\n",
       "    </tr>\n",
       "    <tr>\n",
       "      <th>3</th>\n",
       "      <td>Dallas</td>\n",
       "      <td>2767975.40</td>\n",
       "    </tr>\n",
       "    <tr>\n",
       "      <th>4</th>\n",
       "      <td>Los Angeles</td>\n",
       "      <td>5452570.80</td>\n",
       "    </tr>\n",
       "    <tr>\n",
       "      <th>5</th>\n",
       "      <td>New York City</td>\n",
       "      <td>4664317.43</td>\n",
       "    </tr>\n",
       "    <tr>\n",
       "      <th>6</th>\n",
       "      <td>Portland</td>\n",
       "      <td>2320490.61</td>\n",
       "    </tr>\n",
       "    <tr>\n",
       "      <th>7</th>\n",
       "      <td>San Francisco</td>\n",
       "      <td>8262203.91</td>\n",
       "    </tr>\n",
       "    <tr>\n",
       "      <th>8</th>\n",
       "      <td>Seattle</td>\n",
       "      <td>2747755.48</td>\n",
       "    </tr>\n",
       "  </tbody>\n",
       "</table>\n",
       "</div>"
      ],
      "text/plain": [
       "             City       Sales\n",
       "0         Atlanta  2795498.58\n",
       "1          Austin  1819581.75\n",
       "2          Boston  3661642.01\n",
       "3          Dallas  2767975.40\n",
       "4     Los Angeles  5452570.80\n",
       "5   New York City  4664317.43\n",
       "6        Portland  2320490.61\n",
       "7   San Francisco  8262203.91\n",
       "8         Seattle  2747755.48"
      ]
     },
     "execution_count": 94,
     "metadata": {},
     "output_type": "execute_result"
    }
   ],
   "source": [
    "city_sales"
   ]
  },
  {
   "cell_type": "code",
   "execution_count": 95,
   "id": "50b84bd5",
   "metadata": {},
   "outputs": [
    {
     "data": {
      "image/png": "[encoded data removed]",
      "text/plain": [
       "<Figure size 640x480 with 1 Axes>"
      ]
     },
     "metadata": {},
     "output_type": "display_data"
    }
   ],
   "source": [
    "plt.bar(city_sales['City'], city_sales['Sales'])\n",
    "plt.ylabel('Sales in US Dollars')\n",
    "plt.xlabel('City')\n",
    "\n",
    "plt.xticks(rotation=90)  # Rotate x-axis labels for better readability\n",
    "plt.show()"
   ]
  },
  {
   "cell_type": "markdown",
   "id": "459208bc",
   "metadata": {},
   "source": [
    "#### Question 3: What time should we display advertisements to maximize likelihood of customer's buying products?"
   ]
  },
  {
   "cell_type": "code",
   "execution_count": 118,
   "id": "9dc8b0e2",
   "metadata": {},
   "outputs": [
    {
     "name": "stdout",
     "output_type": "stream",
     "text": [
      "Hour with highest number of sales: 19\n",
      "Total Number of Sales: 2412938.54\n"
     ]
    }
   ],
   "source": [
    "# Assuming 'Price Total' contains the sales data\n",
    "\n",
    "# Group by 'Purchase Hour' and count the number of sales\n",
    "hour_sales = all_data.groupby('Purchase Hour', as_index=False)['Sales'].sum()\n",
    "\n",
    "# Find the hour with the highest number of sales\n",
    "best_hour = hour_sales.loc[hour_sales['Sales'].idxmax()]\n",
    "\n",
    "print(\"Hour with highest number of sales:\", best_hour['Purchase Hour'])\n",
    "print(\"Total Number of Sales:\", best_hour['Sales'])\n"
   ]
  },
  {
   "cell_type": "code",
   "execution_count": 122,
   "id": "990af8da",
   "metadata": {},
   "outputs": [
    {
     "data": {
      "image/png": "[encoded data removed]",
      "text/plain": [
       "<Figure size 640x480 with 1 Axes>"
      ]
     },
     "metadata": {},
     "output_type": "display_data"
    }
   ],
   "source": [
    "hours = range(0,24)\n",
    "plt.plot(hours, hour_sales['Sales'])\n",
    "plt.ylabel('Sales in US Dollars')\n",
    "plt.xlabel('Hours')\n",
    "\n",
    "plt.xticks(rotation=90)  # Rotate x-axis labels for better readability\n",
    "plt.grid()\n",
    "plt.show()"
   ]
  },
  {
   "cell_type": "markdown",
   "id": "da750ca6",
   "metadata": {},
   "source": [
    "#### Question 4: What products are most often sold together?"
   ]
  },
  {
   "cell_type": "code",
   "execution_count": 129,
   "id": "27925853",
   "metadata": {},
   "outputs": [],
   "source": [
    "duplicate_orders = all_data.groupby('Order ID').filter(lambda x: len(x) > 1)\n",
    "duplicate_order_products = duplicate_orders.groupby('Order ID')['Product'].apply(list)"
   ]
  },
  {
   "cell_type": "code",
   "execution_count": 130,
   "id": "c2494472",
   "metadata": {},
   "outputs": [
    {
     "data": {
      "text/plain": [
       "Order ID\n",
       "141275             [USB-C Charging Cable, Wired Headphones]\n",
       "141290    [Apple Airpods Headphones, AA Batteries (4-pack)]\n",
       "141365                  [Vareebadd Phone, Wired Headphones]\n",
       "141384                 [Google Phone, USB-C Charging Cable]\n",
       "141450           [Google Phone, Bose SoundSport Headphones]\n",
       "                                ...                        \n",
       "319536               [Macbook Pro Laptop, Wired Headphones]\n",
       "319556                     [Google Phone, Wired Headphones]\n",
       "319584                           [iPhone, Wired Headphones]\n",
       "319596                   [iPhone, Lightning Charging Cable]\n",
       "319631    [34in Ultrawide Monitor, Lightning Charging Ca...\n",
       "Name: Product, Length: 7136, dtype: object"
      ]
     },
     "execution_count": 130,
     "metadata": {},
     "output_type": "execute_result"
    }
   ],
   "source": [
    "duplicate_order_products"
   ]
  },
  {
   "cell_type": "code",
   "execution_count": 132,
   "id": "30ab3a24",
   "metadata": {},
   "outputs": [
    {
     "name": "stdout",
     "output_type": "stream",
     "text": [
      "Combination: ('iPhone', 'Lightning Charging Cable'), Count: 1005\n",
      "Combination: ('Google Phone', 'USB-C Charging Cable'), Count: 987\n",
      "Combination: ('iPhone', 'Wired Headphones'), Count: 447\n",
      "Combination: ('Google Phone', 'Wired Headphones'), Count: 414\n",
      "Combination: ('Vareebadd Phone', 'USB-C Charging Cable'), Count: 361\n",
      "Combination: ('iPhone', 'Apple Airpods Headphones'), Count: 360\n",
      "Combination: ('Google Phone', 'Bose SoundSport Headphones'), Count: 220\n",
      "Combination: ('USB-C Charging Cable', 'Wired Headphones'), Count: 160\n",
      "Combination: ('Vareebadd Phone', 'Wired Headphones'), Count: 143\n",
      "Combination: ('Lightning Charging Cable', 'Wired Headphones'), Count: 92\n",
      "Combination: ('Lightning Charging Cable', 'Apple Airpods Headphones'), Count: 81\n",
      "Combination: ('Vareebadd Phone', 'Bose SoundSport Headphones'), Count: 80\n",
      "Combination: ('USB-C Charging Cable', 'Bose SoundSport Headphones'), Count: 77\n",
      "Combination: ('Apple Airpods Headphones', 'Wired Headphones'), Count: 69\n",
      "Combination: ('Lightning Charging Cable', 'USB-C Charging Cable'), Count: 58\n",
      "Combination: ('Lightning Charging Cable', 'AA Batteries (4-pack)'), Count: 55\n",
      "Combination: ('Lightning Charging Cable', 'Lightning Charging Cable'), Count: 54\n",
      "Combination: ('Bose SoundSport Headphones', 'Wired Headphones'), Count: 53\n",
      "Combination: ('AA Batteries (4-pack)', 'Lightning Charging Cable'), Count: 51\n",
      "Combination: ('AAA Batteries (4-pack)', 'USB-C Charging Cable'), Count: 50\n",
      "Combination: ('AA Batteries (4-pack)', 'AAA Batteries (4-pack)'), Count: 48\n",
      "Combination: ('Apple Airpods Headphones', 'AAA Batteries (4-pack)'), Count: 48\n",
      "Combination: ('USB-C Charging Cable', 'USB-C Charging Cable'), Count: 48\n",
      "Combination: ('AAA Batteries (4-pack)', 'AAA Batteries (4-pack)'), Count: 48\n",
      "Combination: ('Wired Headphones', 'USB-C Charging Cable'), Count: 45\n",
      "Combination: ('USB-C Charging Cable', 'AAA Batteries (4-pack)'), Count: 45\n",
      "Combination: ('AA Batteries (4-pack)', 'Wired Headphones'), Count: 44\n",
      "Combination: ('AAA Batteries (4-pack)', 'Lightning Charging Cable'), Count: 44\n",
      "Combination: ('Wired Headphones', 'AAA Batteries (4-pack)'), Count: 43\n",
      "Combination: ('AAA Batteries (4-pack)', 'Wired Headphones'), Count: 43\n",
      "Combination: ('USB-C Charging Cable', 'Lightning Charging Cable'), Count: 42\n",
      "Combination: ('AA Batteries (4-pack)', 'Apple Airpods Headphones'), Count: 41\n",
      "Combination: ('Lightning Charging Cable', 'Bose SoundSport Headphones'), Count: 39\n",
      "Combination: ('AAA Batteries (4-pack)', 'AA Batteries (4-pack)'), Count: 39\n",
      "Combination: ('Wired Headphones', 'AA Batteries (4-pack)'), Count: 39\n",
      "Combination: ('USB-C Charging Cable', 'AA Batteries (4-pack)'), Count: 38\n",
      "Combination: ('Wired Headphones', 'Lightning Charging Cable'), Count: 37\n",
      "Combination: ('Bose SoundSport Headphones', 'AAA Batteries (4-pack)'), Count: 37\n",
      "Combination: ('AA Batteries (4-pack)', 'USB-C Charging Cable'), Count: 37\n",
      "Combination: ('Lightning Charging Cable', 'AAA Batteries (4-pack)'), Count: 36\n",
      "Combination: ('Apple Airpods Headphones', 'Lightning Charging Cable'), Count: 35\n",
      "Combination: ('AA Batteries (4-pack)', 'AA Batteries (4-pack)'), Count: 35\n",
      "Combination: ('Wired Headphones', 'Wired Headphones'), Count: 35\n",
      "Combination: ('USB-C Charging Cable', 'Apple Airpods Headphones'), Count: 34\n",
      "Combination: ('AAA Batteries (4-pack)', 'Apple Airpods Headphones'), Count: 33\n",
      "Combination: ('Bose SoundSport Headphones', 'Lightning Charging Cable'), Count: 33\n",
      "Combination: ('Apple Airpods Headphones', 'Bose SoundSport Headphones'), Count: 32\n",
      "Combination: ('USB-C Charging Cable', '27in FHD Monitor'), Count: 31\n",
      "Combination: ('Wired Headphones', 'Apple Airpods Headphones'), Count: 31\n",
      "Combination: ('Apple Airpods Headphones', 'AA Batteries (4-pack)'), Count: 29\n",
      "Combination: ('Apple Airpods Headphones', 'USB-C Charging Cable'), Count: 29\n",
      "Combination: ('AA Batteries (4-pack)', 'Bose SoundSport Headphones'), Count: 28\n",
      "Combination: ('Bose SoundSport Headphones', 'AA Batteries (4-pack)'), Count: 27\n",
      "Combination: ('Bose SoundSport Headphones', 'Bose SoundSport Headphones'), Count: 27\n",
      "Combination: ('Bose SoundSport Headphones', 'USB-C Charging Cable'), Count: 25\n",
      "Combination: ('Apple Airpods Headphones', 'Apple Airpods Headphones'), Count: 24\n",
      "Combination: ('AAA Batteries (4-pack)', '27in FHD Monitor'), Count: 22\n",
      "Combination: ('Wired Headphones', 'Bose SoundSport Headphones'), Count: 21\n",
      "Combination: ('27in FHD Monitor', 'AAA Batteries (4-pack)'), Count: 21\n",
      "Combination: ('AAA Batteries (4-pack)', 'Bose SoundSport Headphones'), Count: 20\n",
      "Combination: ('34in Ultrawide Monitor', 'AA Batteries (4-pack)'), Count: 19\n",
      "Combination: ('34in Ultrawide Monitor', 'Lightning Charging Cable'), Count: 18\n",
      "Combination: ('Bose SoundSport Headphones', 'Apple Airpods Headphones'), Count: 18\n",
      "Combination: ('27in FHD Monitor', 'Lightning Charging Cable'), Count: 18\n",
      "Combination: ('Wired Headphones', '27in 4K Gaming Monitor'), Count: 18\n",
      "Combination: ('Lightning Charging Cable', '27in 4K Gaming Monitor'), Count: 18\n",
      "Combination: ('AA Batteries (4-pack)', 'iPhone'), Count: 18\n",
      "Combination: ('Lightning Charging Cable', '27in FHD Monitor'), Count: 18\n",
      "Combination: ('iPhone', 'AAA Batteries (4-pack)'), Count: 17\n",
      "Combination: ('Wired Headphones', '34in Ultrawide Monitor'), Count: 17\n",
      "Combination: ('Lightning Charging Cable', 'Google Phone'), Count: 16\n",
      "Combination: ('27in 4K Gaming Monitor', 'Lightning Charging Cable'), Count: 16\n",
      "Combination: ('ThinkPad Laptop', 'AAA Batteries (4-pack)'), Count: 16\n",
      "Combination: ('AAA Batteries (4-pack)', '27in 4K Gaming Monitor'), Count: 15\n",
      "Combination: ('20in Monitor', 'USB-C Charging Cable'), Count: 15\n",
      "Combination: ('34in Ultrawide Monitor', 'USB-C Charging Cable'), Count: 15\n",
      "Combination: ('Lightning Charging Cable', '20in Monitor'), Count: 15\n",
      "Combination: ('iPhone', 'USB-C Charging Cable'), Count: 15\n",
      "Combination: ('Lightning Charging Cable', '34in Ultrawide Monitor'), Count: 15\n",
      "Combination: ('Wired Headphones', 'iPhone'), Count: 15\n",
      "Combination: ('27in FHD Monitor', 'AA Batteries (4-pack)'), Count: 15\n",
      "Combination: ('27in 4K Gaming Monitor', 'AAA Batteries (4-pack)'), Count: 15\n",
      "Combination: ('AA Batteries (4-pack)', '27in 4K Gaming Monitor'), Count: 14\n",
      "Combination: ('USB-C Charging Cable', 'iPhone'), Count: 14\n",
      "Combination: ('Google Phone', 'AA Batteries (4-pack)'), Count: 14\n",
      "Combination: ('AAA Batteries (4-pack)', 'iPhone'), Count: 14\n",
      "Combination: ('Bose SoundSport Headphones', '27in FHD Monitor'), Count: 14\n",
      "Combination: ('iPhone', 'AA Batteries (4-pack)'), Count: 14\n",
      "Combination: ('Apple Airpods Headphones', 'Google Phone'), Count: 14\n",
      "Combination: ('Apple Airpods Headphones', 'iPhone'), Count: 13\n",
      "Combination: ('AAA Batteries (4-pack)', '34in Ultrawide Monitor'), Count: 13\n",
      "Combination: ('AA Batteries (4-pack)', 'Flatscreen TV'), Count: 13\n",
      "Combination: ('Wired Headphones', 'Macbook Pro Laptop'), Count: 13\n",
      "Combination: ('AA Batteries (4-pack)', '34in Ultrawide Monitor'), Count: 13\n",
      "Combination: ('27in FHD Monitor', 'Bose SoundSport Headphones'), Count: 12\n",
      "Combination: ('20in Monitor', 'Wired Headphones'), Count: 12\n",
      "Combination: ('27in 4K Gaming Monitor', 'AA Batteries (4-pack)'), Count: 12\n",
      "Combination: ('USB-C Charging Cable', 'Google Phone'), Count: 12\n",
      "Combination: ('Apple Airpods Headphones', 'Macbook Pro Laptop'), Count: 12\n",
      "Combination: ('27in FHD Monitor', 'Apple Airpods Headphones'), Count: 12\n",
      "Combination: ('Wired Headphones', '27in FHD Monitor'), Count: 12\n",
      "Combination: ('Lightning Charging Cable', 'Flatscreen TV'), Count: 12\n",
      "Combination: ('27in 4K Gaming Monitor', 'USB-C Charging Cable'), Count: 12\n",
      "Combination: ('34in Ultrawide Monitor', 'AAA Batteries (4-pack)'), Count: 12\n",
      "Combination: ('Apple Airpods Headphones', '27in FHD Monitor'), Count: 12\n",
      "Combination: ('Google Phone', 'Lightning Charging Cable'), Count: 12\n",
      "Combination: ('Apple Airpods Headphones', '27in 4K Gaming Monitor'), Count: 12\n",
      "Combination: ('27in FHD Monitor', 'USB-C Charging Cable'), Count: 12\n",
      "Combination: ('Macbook Pro Laptop', 'USB-C Charging Cable'), Count: 12\n",
      "Combination: ('34in Ultrawide Monitor', 'Wired Headphones'), Count: 11\n",
      "Combination: ('USB-C Charging Cable', '27in 4K Gaming Monitor'), Count: 11\n",
      "Combination: ('USB-C Charging Cable', 'ThinkPad Laptop'), Count: 11\n",
      "Combination: ('Macbook Pro Laptop', 'Bose SoundSport Headphones'), Count: 11\n",
      "Combination: ('AA Batteries (4-pack)', 'Google Phone'), Count: 11\n",
      "Combination: ('AAA Batteries (4-pack)', 'Macbook Pro Laptop'), Count: 11\n",
      "Combination: ('AAA Batteries (4-pack)', 'Google Phone'), Count: 11\n",
      "Combination: ('ThinkPad Laptop', 'Lightning Charging Cable'), Count: 11\n",
      "Combination: ('AA Batteries (4-pack)', '27in FHD Monitor'), Count: 11\n",
      "Combination: ('USB-C Charging Cable', '34in Ultrawide Monitor'), Count: 11\n",
      "Combination: ('20in Monitor', 'Lightning Charging Cable'), Count: 11\n",
      "Combination: ('Google Phone', 'AAA Batteries (4-pack)'), Count: 11\n",
      "Combination: ('Flatscreen TV', 'AAA Batteries (4-pack)'), Count: 11\n",
      "Combination: ('AAA Batteries (4-pack)', 'ThinkPad Laptop'), Count: 11\n",
      "Combination: ('Macbook Pro Laptop', 'Lightning Charging Cable'), Count: 11\n",
      "Combination: ('Bose SoundSport Headphones', '34in Ultrawide Monitor'), Count: 11\n",
      "Combination: ('27in 4K Gaming Monitor', 'Wired Headphones'), Count: 11\n",
      "Combination: ('Wired Headphones', 'ThinkPad Laptop'), Count: 10\n",
      "Combination: ('AAA Batteries (4-pack)', 'Flatscreen TV'), Count: 10\n",
      "Combination: ('USB-C Charging Cable', '20in Monitor'), Count: 10\n",
      "Combination: ('Lightning Charging Cable', 'Macbook Pro Laptop'), Count: 10\n",
      "Combination: ('Flatscreen TV', 'Lightning Charging Cable'), Count: 10\n",
      "Combination: ('Bose SoundSport Headphones', '27in 4K Gaming Monitor'), Count: 10\n",
      "Combination: ('27in FHD Monitor', 'Wired Headphones'), Count: 10\n",
      "Combination: ('Lightning Charging Cable', 'iPhone'), Count: 10\n",
      "Combination: ('USB-C Charging Cable', 'Flatscreen TV'), Count: 10\n",
      "Combination: ('Bose SoundSport Headphones', 'Flatscreen TV'), Count: 10\n",
      "Combination: ('27in 4K Gaming Monitor', 'Apple Airpods Headphones'), Count: 10\n",
      "Combination: ('AA Batteries (4-pack)', '20in Monitor'), Count: 10\n",
      "Combination: ('20in Monitor', 'Bose SoundSport Headphones'), Count: 9\n",
      "Combination: ('Macbook Pro Laptop', 'AA Batteries (4-pack)'), Count: 9\n",
      "Combination: ('Apple Airpods Headphones', 'ThinkPad Laptop'), Count: 9\n",
      "Combination: ('AA Batteries (4-pack)', 'ThinkPad Laptop'), Count: 9\n",
      "Combination: ('USB-C Charging Cable', 'Macbook Pro Laptop'), Count: 9\n",
      "Combination: ('Lightning Charging Cable', 'ThinkPad Laptop'), Count: 9\n",
      "Combination: ('Wired Headphones', 'Google Phone'), Count: 9\n",
      "Combination: ('Vareebadd Phone', 'AA Batteries (4-pack)'), Count: 9\n",
      "Combination: ('ThinkPad Laptop', 'Bose SoundSport Headphones'), Count: 9\n",
      "Combination: ('27in FHD Monitor', '27in FHD Monitor'), Count: 9\n",
      "Combination: ('27in 4K Gaming Monitor', 'Bose SoundSport Headphones'), Count: 9\n",
      "Combination: ('ThinkPad Laptop', 'USB-C Charging Cable'), Count: 9\n",
      "Combination: ('Bose SoundSport Headphones', 'Google Phone'), Count: 8\n",
      "Combination: ('Flatscreen TV', 'AA Batteries (4-pack)'), Count: 8\n",
      "Combination: ('Apple Airpods Headphones', 'Flatscreen TV'), Count: 8\n",
      "Combination: ('34in Ultrawide Monitor', 'Apple Airpods Headphones'), Count: 8\n",
      "Combination: ('ThinkPad Laptop', 'AA Batteries (4-pack)'), Count: 8\n",
      "Combination: ('AA Batteries (4-pack)', 'Macbook Pro Laptop'), Count: 8\n",
      "Combination: ('AAA Batteries (4-pack)', '20in Monitor'), Count: 8\n",
      "Combination: ('Google Phone', 'Apple Airpods Headphones'), Count: 7\n",
      "Combination: ('Flatscreen TV', 'USB-C Charging Cable'), Count: 7\n",
      "Combination: ('Macbook Pro Laptop', '27in 4K Gaming Monitor'), Count: 7\n",
      "Combination: ('Macbook Pro Laptop', 'Wired Headphones'), Count: 7\n",
      "Combination: ('Wired Headphones', 'Flatscreen TV'), Count: 7\n",
      "Combination: ('34in Ultrawide Monitor', '34in Ultrawide Monitor'), Count: 7\n",
      "Combination: ('ThinkPad Laptop', 'Apple Airpods Headphones'), Count: 7\n",
      "Combination: ('Google Phone', '27in FHD Monitor'), Count: 7\n",
      "Combination: ('Bose SoundSport Headphones', 'iPhone'), Count: 7\n",
      "Combination: ('20in Monitor', 'Apple Airpods Headphones'), Count: 7\n",
      "Combination: ('Macbook Pro Laptop', 'Apple Airpods Headphones'), Count: 7\n",
      "Combination: ('Wired Headphones', '20in Monitor'), Count: 7\n",
      "Combination: ('USB-C Charging Cable', 'Vareebadd Phone'), Count: 7\n",
      "Combination: ('Macbook Pro Laptop', 'AAA Batteries (4-pack)'), Count: 7\n",
      "Combination: ('34in Ultrawide Monitor', 'iPhone'), Count: 7\n",
      "Combination: ('Google Phone', 'iPhone'), Count: 6\n",
      "Combination: ('Bose SoundSport Headphones', '20in Monitor'), Count: 6\n",
      "Combination: ('Apple Airpods Headphones', 'Vareebadd Phone'), Count: 6\n",
      "Combination: ('27in 4K Gaming Monitor', 'Macbook Pro Laptop'), Count: 6\n",
      "Combination: ('27in FHD Monitor', 'Macbook Pro Laptop'), Count: 6\n",
      "Combination: ('iPhone', 'Flatscreen TV'), Count: 6\n",
      "Combination: ('20in Monitor', 'AA Batteries (4-pack)'), Count: 6\n",
      "Combination: ('Apple Airpods Headphones', '20in Monitor'), Count: 6\n",
      "Combination: ('Vareebadd Phone', 'Apple Airpods Headphones'), Count: 6\n",
      "Combination: ('iPhone', '27in 4K Gaming Monitor'), Count: 6\n",
      "Combination: ('Flatscreen TV', 'Flatscreen TV'), Count: 6\n",
      "Combination: ('Wired Headphones', 'Vareebadd Phone'), Count: 6\n",
      "Combination: ('34in Ultrawide Monitor', 'Bose SoundSport Headphones'), Count: 6\n",
      "Combination: ('27in 4K Gaming Monitor', '34in Ultrawide Monitor'), Count: 6\n",
      "Combination: ('Apple Airpods Headphones', '34in Ultrawide Monitor'), Count: 6\n",
      "Combination: ('iPhone', '34in Ultrawide Monitor'), Count: 6\n",
      "Combination: ('Flatscreen TV', 'Apple Airpods Headphones'), Count: 5\n",
      "Combination: ('Flatscreen TV', '34in Ultrawide Monitor'), Count: 5\n",
      "Combination: ('27in 4K Gaming Monitor', 'Google Phone'), Count: 5\n",
      "Combination: ('27in 4K Gaming Monitor', '27in 4K Gaming Monitor'), Count: 5\n",
      "Combination: ('27in FHD Monitor', '34in Ultrawide Monitor'), Count: 5\n",
      "Combination: ('34in Ultrawide Monitor', '27in FHD Monitor'), Count: 5\n",
      "Combination: ('iPhone', 'Bose SoundSport Headphones'), Count: 5\n",
      "Combination: ('Bose SoundSport Headphones', 'Macbook Pro Laptop'), Count: 4\n",
      "Combination: ('LG Dryer', 'AA Batteries (4-pack)'), Count: 4\n",
      "Combination: ('27in FHD Monitor', '27in 4K Gaming Monitor'), Count: 4\n",
      "Combination: ('Flatscreen TV', 'Wired Headphones'), Count: 4\n",
      "Combination: ('Vareebadd Phone', 'Google Phone'), Count: 4\n",
      "Combination: ('Bose SoundSport Headphones', 'ThinkPad Laptop'), Count: 4\n",
      "Combination: ('ThinkPad Laptop', 'Wired Headphones'), Count: 4\n",
      "Combination: ('20in Monitor', 'Macbook Pro Laptop'), Count: 4\n",
      "Combination: ('iPhone', 'ThinkPad Laptop'), Count: 4\n",
      "Combination: ('LG Washing Machine', 'AAA Batteries (4-pack)'), Count: 4\n",
      "Combination: ('Flatscreen TV', '27in FHD Monitor'), Count: 4\n",
      "Combination: ('Macbook Pro Laptop', '34in Ultrawide Monitor'), Count: 4\n",
      "Combination: ('iPhone', 'Vareebadd Phone'), Count: 4\n",
      "Combination: ('Vareebadd Phone', '34in Ultrawide Monitor'), Count: 4\n",
      "Combination: ('Flatscreen TV', 'iPhone'), Count: 4\n",
      "Combination: ('Flatscreen TV', 'Macbook Pro Laptop'), Count: 4\n",
      "Combination: ('27in 4K Gaming Monitor', '27in FHD Monitor'), Count: 4\n",
      "Combination: ('27in 4K Gaming Monitor', 'ThinkPad Laptop'), Count: 4\n",
      "Combination: ('AAA Batteries (4-pack)', 'Vareebadd Phone'), Count: 4\n",
      "Combination: ('ThinkPad Laptop', 'Flatscreen TV'), Count: 4\n",
      "Combination: ('Macbook Pro Laptop', 'Google Phone'), Count: 4\n",
      "Combination: ('Lightning Charging Cable', 'LG Washing Machine'), Count: 4\n",
      "Combination: ('27in FHD Monitor', 'ThinkPad Laptop'), Count: 4\n",
      "Combination: ('27in 4K Gaming Monitor', 'iPhone'), Count: 3\n",
      "Combination: ('Google Phone', 'Google Phone'), Count: 3\n",
      "Combination: ('Flatscreen TV', 'Google Phone'), Count: 3\n",
      "Combination: ('Macbook Pro Laptop', 'iPhone'), Count: 3\n",
      "Combination: ('Macbook Pro Laptop', '27in FHD Monitor'), Count: 3\n",
      "Combination: ('Flatscreen TV', 'Bose SoundSport Headphones'), Count: 3\n",
      "Combination: ('AA Batteries (4-pack)', 'Vareebadd Phone'), Count: 3\n",
      "Combination: ('Vareebadd Phone', 'iPhone'), Count: 3\n",
      "Combination: ('27in FHD Monitor', '20in Monitor'), Count: 3\n",
      "Combination: ('iPhone', 'Google Phone'), Count: 3\n",
      "Combination: ('27in 4K Gaming Monitor', 'Flatscreen TV'), Count: 3\n",
      "Combination: ('Google Phone', '34in Ultrawide Monitor'), Count: 3\n",
      "Combination: ('20in Monitor', '20in Monitor'), Count: 3\n",
      "Combination: ('Wired Headphones', 'LG Washing Machine'), Count: 3\n",
      "Combination: ('Apple Airpods Headphones', 'LG Dryer'), Count: 3\n",
      "Combination: ('Macbook Pro Laptop', 'ThinkPad Laptop'), Count: 3\n",
      "Combination: ('ThinkPad Laptop', 'Google Phone'), Count: 3\n",
      "Combination: ('34in Ultrawide Monitor', 'Macbook Pro Laptop'), Count: 3\n",
      "Combination: ('Lightning Charging Cable', 'Vareebadd Phone'), Count: 3\n",
      "Combination: ('Google Phone', 'ThinkPad Laptop'), Count: 3\n",
      "Combination: ('20in Monitor', 'AAA Batteries (4-pack)'), Count: 3\n",
      "Combination: ('Macbook Pro Laptop', 'Macbook Pro Laptop'), Count: 3\n",
      "Combination: ('Google Phone', 'Macbook Pro Laptop'), Count: 3\n",
      "Combination: ('34in Ultrawide Monitor', 'Flatscreen TV'), Count: 3\n",
      "Combination: ('ThinkPad Laptop', 'iPhone'), Count: 3\n",
      "Combination: ('Vareebadd Phone', 'Flatscreen TV'), Count: 3\n",
      "Combination: ('34in Ultrawide Monitor', 'ThinkPad Laptop'), Count: 3\n",
      "Combination: ('iPhone', 'Macbook Pro Laptop'), Count: 3\n",
      "Combination: ('LG Washing Machine', 'Bose SoundSport Headphones'), Count: 2\n",
      "Combination: ('AA Batteries (4-pack)', 'LG Dryer'), Count: 2\n",
      "Combination: ('Vareebadd Phone', 'AAA Batteries (4-pack)'), Count: 2\n",
      "Combination: ('iPhone', 'iPhone'), Count: 2\n",
      "Combination: ('27in FHD Monitor', 'LG Dryer'), Count: 2\n",
      "Combination: ('Vareebadd Phone', '27in 4K Gaming Monitor'), Count: 2\n",
      "Combination: ('27in 4K Gaming Monitor', '20in Monitor'), Count: 2\n",
      "Combination: ('LG Washing Machine', 'Lightning Charging Cable'), Count: 2\n",
      "Combination: ('Flatscreen TV', 'ThinkPad Laptop'), Count: 2\n",
      "Combination: ('Vareebadd Phone', 'ThinkPad Laptop'), Count: 2\n",
      "Combination: ('34in Ultrawide Monitor', 'Google Phone'), Count: 2\n",
      "Combination: ('Macbook Pro Laptop', '20in Monitor'), Count: 2\n",
      "Combination: ('Lightning Charging Cable', 'LG Dryer'), Count: 2\n",
      "Combination: ('Flatscreen TV', '27in 4K Gaming Monitor'), Count: 2\n",
      "Combination: ('ThinkPad Laptop', 'Macbook Pro Laptop'), Count: 2\n",
      "Combination: ('ThinkPad Laptop', '27in FHD Monitor'), Count: 2\n",
      "Combination: ('27in FHD Monitor', 'Flatscreen TV'), Count: 2\n",
      "Combination: ('iPhone', '20in Monitor'), Count: 2\n",
      "Combination: ('20in Monitor', 'Google Phone'), Count: 2\n",
      "Combination: ('Macbook Pro Laptop', 'LG Washing Machine'), Count: 2\n",
      "Combination: ('Google Phone', '20in Monitor'), Count: 2\n",
      "Combination: ('20in Monitor', 'ThinkPad Laptop'), Count: 2\n",
      "Combination: ('20in Monitor', '27in FHD Monitor'), Count: 2\n",
      "Combination: ('Bose SoundSport Headphones', 'Vareebadd Phone'), Count: 2\n",
      "Combination: ('ThinkPad Laptop', 'ThinkPad Laptop'), Count: 2\n",
      "Combination: ('LG Dryer', 'Flatscreen TV'), Count: 1\n",
      "Combination: ('LG Washing Machine', 'Google Phone'), Count: 1\n",
      "Combination: ('LG Washing Machine', 'Wired Headphones'), Count: 1\n",
      "Combination: ('27in FHD Monitor', 'Vareebadd Phone'), Count: 1\n",
      "Combination: ('LG Washing Machine', '27in 4K Gaming Monitor'), Count: 1\n",
      "Combination: ('LG Washing Machine', 'Apple Airpods Headphones'), Count: 1\n",
      "Combination: ('27in 4K Gaming Monitor', 'LG Dryer'), Count: 1\n",
      "Combination: ('20in Monitor', 'LG Washing Machine'), Count: 1\n",
      "Combination: ('LG Dryer', 'Google Phone'), Count: 1\n",
      "Combination: ('27in 4K Gaming Monitor', 'Vareebadd Phone'), Count: 1\n",
      "Combination: ('27in FHD Monitor', 'iPhone'), Count: 1\n",
      "Combination: ('Vareebadd Phone', 'Lightning Charging Cable'), Count: 1\n",
      "Combination: ('Vareebadd Phone', '27in FHD Monitor'), Count: 1\n",
      "Combination: ('ThinkPad Laptop', '27in 4K Gaming Monitor'), Count: 1\n",
      "Combination: ('20in Monitor', 'Flatscreen TV'), Count: 1\n",
      "Combination: ('USB-C Charging Cable', 'LG Dryer'), Count: 1\n",
      "Combination: ('LG Washing Machine', '20in Monitor'), Count: 1\n",
      "Combination: ('Flatscreen TV', '20in Monitor'), Count: 1\n",
      "Combination: ('34in Ultrawide Monitor', 'LG Washing Machine'), Count: 1\n",
      "Combination: ('Google Phone', '27in 4K Gaming Monitor'), Count: 1\n",
      "Combination: ('LG Washing Machine', 'iPhone'), Count: 1\n",
      "Combination: ('LG Dryer', 'Wired Headphones'), Count: 1\n",
      "Combination: ('27in FHD Monitor', 'LG Washing Machine'), Count: 1\n",
      "Combination: ('LG Dryer', '27in FHD Monitor'), Count: 1\n",
      "Combination: ('20in Monitor', '34in Ultrawide Monitor'), Count: 1\n",
      "Combination: ('34in Ultrawide Monitor', '20in Monitor'), Count: 1\n",
      "Combination: ('Google Phone', 'Vareebadd Phone'), Count: 1\n",
      "Combination: ('20in Monitor', 'iPhone'), Count: 1\n",
      "Combination: ('LG Dryer', 'Vareebadd Phone'), Count: 1\n",
      "Combination: ('LG Dryer', 'Lightning Charging Cable'), Count: 1\n",
      "Combination: ('ThinkPad Laptop', 'LG Dryer'), Count: 1\n",
      "Combination: ('LG Washing Machine', 'AA Batteries (4-pack)'), Count: 1\n",
      "Combination: ('LG Dryer', 'AAA Batteries (4-pack)'), Count: 1\n",
      "Combination: ('ThinkPad Laptop', '34in Ultrawide Monitor'), Count: 1\n",
      "Combination: ('iPhone', 'LG Washing Machine'), Count: 1\n",
      "Combination: ('AAA Batteries (4-pack)', 'LG Dryer'), Count: 1\n",
      "Combination: ('LG Dryer', '27in 4K Gaming Monitor'), Count: 1\n",
      "Combination: ('27in FHD Monitor', 'Google Phone'), Count: 1\n",
      "Combination: ('iPhone', '27in FHD Monitor'), Count: 1\n",
      "Combination: ('Macbook Pro Laptop', 'Flatscreen TV'), Count: 1\n",
      "Combination: ('ThinkPad Laptop', 'Vareebadd Phone'), Count: 1\n",
      "Combination: ('Google Phone', 'Flatscreen TV'), Count: 1\n"
     ]
    }
   ],
   "source": [
    "from itertools import combinations\n",
    "from collections import Counter\n",
    "\n",
    "# Group the data by OrderId and collect the products for each order\n",
    "order_groups = duplicate_orders.groupby('Order ID')['Product'].apply(list)\n",
    "\n",
    "# Initialize an empty list to store the combinations of products\n",
    "product_combinations = []\n",
    "\n",
    "# Iterate over each order's products and append combinations to the list\n",
    "for products in order_groups:\n",
    "    product_combinations.extend(combinations(products, 2))  # Change the number (2) for different combination lengths\n",
    "\n",
    "# Count the occurrences of each combination\n",
    "combination_counts = Counter(product_combinations)\n",
    "\n",
    "# Get the most common combinations and their counts\n",
    "most_common_combinations = combination_counts.most_common()\n",
    "\n",
    "# Print the most common combinations\n",
    "for combination, count in most_common_combinations:\n",
    "    print(f\"Combination: {combination}, Count: {count}\")\n"
   ]
  },
  {
   "cell_type": "markdown",
   "id": "108895df",
   "metadata": {},
   "source": [
    "#### Question 6: What products sold the most? Why do you think it sold the most?"
   ]
  },
  {
   "cell_type": "code",
   "execution_count": 145,
   "id": "f0862020",
   "metadata": {
    "scrolled": true
   },
   "outputs": [
    {
     "data": {
      "text/html": [
       "<div>\n",
       "<style scoped>\n",
       "    .dataframe tbody tr th:only-of-type {\n",
       "        vertical-align: middle;\n",
       "    }\n",
       "\n",
       "    .dataframe tbody tr th {\n",
       "        vertical-align: top;\n",
       "    }\n",
       "\n",
       "    .dataframe thead th {\n",
       "        text-align: right;\n",
       "    }\n",
       "</style>\n",
       "<table border=\"1\" class=\"dataframe\">\n",
       "  <thead>\n",
       "    <tr style=\"text-align: right;\">\n",
       "      <th></th>\n",
       "      <th>Product</th>\n",
       "      <th>Quantity Ordered</th>\n",
       "    </tr>\n",
       "  </thead>\n",
       "  <tbody>\n",
       "    <tr>\n",
       "      <th>0</th>\n",
       "      <td>20in Monitor</td>\n",
       "      <td>4129</td>\n",
       "    </tr>\n",
       "    <tr>\n",
       "      <th>1</th>\n",
       "      <td>27in 4K Gaming Monitor</td>\n",
       "      <td>6244</td>\n",
       "    </tr>\n",
       "    <tr>\n",
       "      <th>2</th>\n",
       "      <td>27in FHD Monitor</td>\n",
       "      <td>7550</td>\n",
       "    </tr>\n",
       "    <tr>\n",
       "      <th>3</th>\n",
       "      <td>34in Ultrawide Monitor</td>\n",
       "      <td>6199</td>\n",
       "    </tr>\n",
       "    <tr>\n",
       "      <th>4</th>\n",
       "      <td>AA Batteries (4-pack)</td>\n",
       "      <td>27635</td>\n",
       "    </tr>\n",
       "  </tbody>\n",
       "</table>\n",
       "</div>"
      ],
      "text/plain": [
       "                  Product  Quantity Ordered\n",
       "0            20in Monitor              4129\n",
       "1  27in 4K Gaming Monitor              6244\n",
       "2        27in FHD Monitor              7550\n",
       "3  34in Ultrawide Monitor              6199\n",
       "4   AA Batteries (4-pack)             27635"
      ]
     },
     "execution_count": 145,
     "metadata": {},
     "output_type": "execute_result"
    }
   ],
   "source": [
    "product_quantity_ordered = all_data.groupby('Product')['Quantity Ordered'].sum()\n",
    "product_quantity_ordered_df = pd.DataFrame(product_quantity_ordered).reset_index()  # Reset index\n",
    "product_quantity_ordered_df.head()"
   ]
  },
  {
   "cell_type": "code",
   "execution_count": 147,
   "id": "246ff855",
   "metadata": {},
   "outputs": [
    {
     "data": {
      "image/png": "[encoded data removed]",
      "text/plain": [
       "<Figure size 640x480 with 1 Axes>"
      ]
     },
     "metadata": {},
     "output_type": "display_data"
    }
   ],
   "source": [
    "plt.bar(product_quantity_ordered_df['Product'], product_quantity_ordered_df['Quantity Ordered'])  \n",
    "plt.ylabel('Count of Products Ordered')\n",
    "plt.xlabel('Products')\n",
    "plt.xticks(rotation=90)  \n",
    "plt.show()\n"
   ]
  },
  {
   "cell_type": "code",
   "execution_count": null,
   "id": "2afbd72c",
   "metadata": {},
   "outputs": [],
   "source": []
  },
  {
   "cell_type": "code",
   "execution_count": null,
   "id": "965055cf",
   "metadata": {},
   "outputs": [],
   "source": []
  },
  {
   "cell_type": "code",
   "execution_count": null,
   "id": "2f4bd8c2",
   "metadata": {},
   "outputs": [],
   "source": []
  }
 ],
 "metadata": {
  "kernelspec": {
   "display_name": "Python 3 (ipykernel)",
   "language": "python",
   "name": "python3"
  },
  "language_info": {
   "codemirror_mode": {
    "name": "ipython",
    "version": 3
   },
   "file_extension": ".py",
   "mimetype": "text/x-python",
   "name": "python",
   "nbconvert_exporter": "python",
   "pygments_lexer": "ipython3",
   "version": "3.11.5"
  }
 },
 "nbformat": 4,
 "nbformat_minor": 5
}
